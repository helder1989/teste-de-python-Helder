{
 "cells": [
  {
   "cell_type": "code",
   "execution_count": null,
   "id": "29bfa12c-2ce7-4ec3-b4ab-c5c693a4ea22",
   "metadata": {},
   "outputs": [],
   "source": [
    "\n",
    "# Import bibliotecas\n",
    "\n",
    "import streamlit as st\n",
    "import pandas as pd\n",
    "from sklearn.model_selection import train_test_split\n",
    "from sklearn.ensemble import RandomForestClassifier\n",
    "from sklearn.metrics import accuracy_score\n",
    "\n",
    "# Título do aplicativo\n",
    "st.title(\"Prevendo Diabetes\")\n",
    "\n",
    "# leitura da base de dados\n",
    "@st.cache\n",
    "def carregar_dados():\n",
    "    data = pd.read_csv(\"diabetes.csv\")\n",
    "    return data\n",
    "\n",
    "dados = carregar_dados()\n",
    "\n",
    "# interagindo com o usuário\n",
    "nome_usuario = st.text_input(\"Digite o seu nome:\")\n",
    "\n",
    "# nome do usuário na tela\n",
    "st.write(f\"Olá, {nome_usuario}!\")\n",
    "\n",
    "# Separando os dados em features (X) e target (y)\n",
    "X = dados.drop(\"Outcome\", axis=1)\n",
    "y = dados[\"Outcome\"]\n",
    "\n",
    "# Divisão dos dados em treinamento e teste\n",
    "X_train, X_test, y_train, y_test = train_test_split(X, y, test_size=0.2, random_state=42)\n",
    "\n",
    "# Criando e treinando o modelo de aprendizado de máquina (Random Forest)\n",
    "\n",
    "modelo = RandomForestClassifier(random_state=42)\n",
    "modelo.fit(X_train, y_train)\n",
    "\n",
    "# Realizando a previsão com os dados de teste\n",
    "y_pred = modelo.predict(X_test)\n",
    "\n",
    "# Calculando a acurácia do modelo\n",
    "acuracia = accuracy_score(y_test, y_pred)\n",
    "\n",
    "# Exibição a acurácia do modelo na tela\n",
    "st.write(f\"A acurácia do modelo é de: {acuracia:.2f}\")\n"
   ]
  }
 ],
 "metadata": {
  "kernelspec": {
   "display_name": "Python 3 (ipykernel)",
   "language": "python",
   "name": "python3"
  },
  "language_info": {
   "codemirror_mode": {
    "name": "ipython",
    "version": 3
   },
   "file_extension": ".py",
   "mimetype": "text/x-python",
   "name": "python",
   "nbconvert_exporter": "python",
   "pygments_lexer": "ipython3",
   "version": "3.10.6"
  }
 },
 "nbformat": 4,
 "nbformat_minor": 5
}
